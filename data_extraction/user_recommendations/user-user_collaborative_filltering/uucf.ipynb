{
 "cells": [
  {
   "cell_type": "code",
   "execution_count": 1,
   "metadata": {},
   "outputs": [],
   "source": [
    "import numpy as np\n",
    "import matplotlib.pyplot as plt\n",
    "import seaborn as sns\n",
    "import pandas as pd\n",
    "\n",
    "from tqdm import tqdm\n",
    "import datetime\n",
    "\n",
    "sns.set_style('darkgrid')\n",
    "pd.options.display.max_rows = None"
   ]
  },
  {
   "cell_type": "code",
   "execution_count": 3,
   "metadata": {},
   "outputs": [],
   "source": [
    "transactions = pd.read_csv('../../../data/transactions_train_sample.csv',dtype={\"article_id\": \"str\"})\n",
    "transactions[\"t_dat\"] = pd.to_datetime(transactions[\"t_dat\"])"
   ]
  },
  {
   "cell_type": "code",
   "execution_count": 4,
   "metadata": {},
   "outputs": [
    {
     "data": {
      "text/plain": [
       "<AxesSubplot:xlabel='transaction_count', ylabel='Count'>"
      ]
     },
     "execution_count": 4,
     "metadata": {},
     "output_type": "execute_result"
    },
    {
     "data": {
      "image/png": "[encoded data removed]",
      "text/plain": [
       "<Figure size 432x288 with 1 Axes>"
      ]
     },
     "metadata": {},
     "output_type": "display_data"
    }
   ],
   "source": [
    "tmp = transactions.groupby('customer_id').article_id.count().reset_index()\n",
    "tmp.columns = ['customer_id','transaction_count']\n",
    "sns.histplot(data=tmp,x='transaction_count')"
   ]
  },
  {
   "cell_type": "markdown",
   "metadata": {},
   "source": [
    "### Map customer_id and article_id to incremental intergers"
   ]
  },
  {
   "cell_type": "code",
   "execution_count": 5,
   "metadata": {},
   "outputs": [],
   "source": [
    "ALL_USERS = transactions.customer_id.unique().tolist()\n",
    "ALL_ITEMS = transactions.article_id.unique().tolist()\n",
    "\n",
    "user_to_customer_map = {u:c for u,c in zip(range(len(ALL_USERS)),ALL_USERS)}\n",
    "customer_to_user_map = {c:u for u,c in zip(range(len(ALL_USERS)),ALL_USERS)}\n",
    "\n",
    "item_to_article_map = {i:a for i,a in zip(range(len(ALL_ITEMS)),ALL_ITEMS)}\n",
    "article_to_item_map = {a:i for i,a in zip(range(len(ALL_ITEMS)),ALL_ITEMS)}\n",
    "\n",
    "transactions['user_id'] = transactions['customer_id'].map(customer_to_user_map)\n",
    "transactions['item_id'] = transactions['article_id'].map(article_to_item_map)"
   ]
  },
  {
   "cell_type": "code",
   "execution_count": 6,
   "metadata": {},
   "outputs": [
    {
     "data": {
      "text/html": [
       "<div>\n",
       "<style scoped>\n",
       "    .dataframe tbody tr th:only-of-type {\n",
       "        vertical-align: middle;\n",
       "    }\n",
       "\n",
       "    .dataframe tbody tr th {\n",
       "        vertical-align: top;\n",
       "    }\n",
       "\n",
       "    .dataframe thead th {\n",
       "        text-align: right;\n",
       "    }\n",
       "</style>\n",
       "<table border=\"1\" class=\"dataframe\">\n",
       "  <thead>\n",
       "    <tr style=\"text-align: right;\">\n",
       "      <th></th>\n",
       "      <th>t_dat</th>\n",
       "      <th>customer_id</th>\n",
       "      <th>article_id</th>\n",
       "      <th>price</th>\n",
       "      <th>sales_channel_id</th>\n",
       "      <th>user_id</th>\n",
       "      <th>item_id</th>\n",
       "    </tr>\n",
       "  </thead>\n",
       "  <tbody>\n",
       "    <tr>\n",
       "      <th>0</th>\n",
       "      <td>2018-09-20</td>\n",
       "      <td>1a674938eb6b4f9b3ef35eda901f7c8a319f2666b18241...</td>\n",
       "      <td>0493995001</td>\n",
       "      <td>0.020915</td>\n",
       "      <td>2</td>\n",
       "      <td>0</td>\n",
       "      <td>0</td>\n",
       "    </tr>\n",
       "    <tr>\n",
       "      <th>1</th>\n",
       "      <td>2018-09-20</td>\n",
       "      <td>1b291588ef8570d77e354d045dc8041d9235f2437c3d1f...</td>\n",
       "      <td>0669361001</td>\n",
       "      <td>0.042356</td>\n",
       "      <td>1</td>\n",
       "      <td>1</td>\n",
       "      <td>1</td>\n",
       "    </tr>\n",
       "    <tr>\n",
       "      <th>2</th>\n",
       "      <td>2018-09-20</td>\n",
       "      <td>1b291588ef8570d77e354d045dc8041d9235f2437c3d1f...</td>\n",
       "      <td>0669361001</td>\n",
       "      <td>0.042356</td>\n",
       "      <td>1</td>\n",
       "      <td>1</td>\n",
       "      <td>1</td>\n",
       "    </tr>\n",
       "    <tr>\n",
       "      <th>3</th>\n",
       "      <td>2018-09-20</td>\n",
       "      <td>1dc5a502ddc5c507ddebc319d570e72e27aa3b0cf24ebd...</td>\n",
       "      <td>0661095001</td>\n",
       "      <td>0.059305</td>\n",
       "      <td>1</td>\n",
       "      <td>2</td>\n",
       "      <td>2</td>\n",
       "    </tr>\n",
       "    <tr>\n",
       "      <th>4</th>\n",
       "      <td>2018-09-20</td>\n",
       "      <td>3ea749dbef28880a274d2b57172786a846a3da1d5893a3...</td>\n",
       "      <td>0657415005</td>\n",
       "      <td>0.025407</td>\n",
       "      <td>1</td>\n",
       "      <td>3</td>\n",
       "      <td>3</td>\n",
       "    </tr>\n",
       "  </tbody>\n",
       "</table>\n",
       "</div>"
      ],
      "text/plain": [
       "       t_dat                                        customer_id  article_id  \\\n",
       "0 2018-09-20  1a674938eb6b4f9b3ef35eda901f7c8a319f2666b18241...  0493995001   \n",
       "1 2018-09-20  1b291588ef8570d77e354d045dc8041d9235f2437c3d1f...  0669361001   \n",
       "2 2018-09-20  1b291588ef8570d77e354d045dc8041d9235f2437c3d1f...  0669361001   \n",
       "3 2018-09-20  1dc5a502ddc5c507ddebc319d570e72e27aa3b0cf24ebd...  0661095001   \n",
       "4 2018-09-20  3ea749dbef28880a274d2b57172786a846a3da1d5893a3...  0657415005   \n",
       "\n",
       "      price  sales_channel_id  user_id  item_id  \n",
       "0  0.020915                 2        0        0  \n",
       "1  0.042356                 1        1        1  \n",
       "2  0.042356                 1        1        1  \n",
       "3  0.059305                 1        2        2  \n",
       "4  0.025407                 1        3        3  "
      ]
     },
     "execution_count": 6,
     "metadata": {},
     "output_type": "execute_result"
    }
   ],
   "source": [
    "transactions.head()"
   ]
  },
  {
   "cell_type": "markdown",
   "metadata": {},
   "source": [
    "### Build Model"
   ]
  },
  {
   "cell_type": "markdown",
   "metadata": {},
   "source": [
    "**Configuration parameters**\n",
    "\n",
    "Since UUCF is very computationally expensive, we only apply on a small subset of users.\n",
    "\n",
    "We will reduce data base on 2 fronts:\n",
    "- Keep only the most recent history from `START_DATE`\n",
    "- Keep only the user with at least `MINIMUM_PURCHASES`"
   ]
  },
  {
   "cell_type": "code",
   "execution_count": 7,
   "metadata": {},
   "outputs": [],
   "source": [
    "N_SIMILAR_USERS = 10\n",
    "\n",
    "MINIMUM_PURCHASES = 5\n",
    "\n",
    "START_DATE = '2020-08-21' # last month\n",
    "\n",
    "DROP_PURCHASED_ITEMS = False\n",
    "\n",
    "DROP_USER_FROM_HIS_NEIGHBORHOOD = True\n",
    "\n",
    "TEST_RUN = False\n",
    "\n",
    "TEST_SIZE = 1000"
   ]
  },
  {
   "cell_type": "code",
   "execution_count": 8,
   "metadata": {},
   "outputs": [],
   "source": [
    "def flatten(l):\n",
    "    \"\"\" Flatten a list of lists\"\"\"\n",
    "    return [item for sublist in l for item in sublist]"
   ]
  },
  {
   "cell_type": "code",
   "execution_count": 10,
   "metadata": {},
   "outputs": [],
   "source": [
    "def compare_vectors(v1, v2):\n",
    "    \"\"\"Compare lists of purchased product for two given users\n",
    "    v1 stands for the \"vector representation for user 1\", which is a list of the purchases of u1\n",
    "    \n",
    "    Returns:\n",
    "        A value between 0 and 1 (similarity)\n",
    "    \"\"\"\n",
    "    intersection = len(set(v1) & set(v2))\n",
    "    denominator = np.sqrt(len(v1) * len(v2))\n",
    "    return intersection / denominator"
   ]
  },
  {
   "cell_type": "code",
   "execution_count": 11,
   "metadata": {},
   "outputs": [],
   "source": [
    "def get_similar_users(u, v, dfh):\n",
    "    \"\"\"\n",
    "    Get the N_SIMILAR_USERS most similar users to the given one with their similarity score\n",
    "    Arguments:\n",
    "        u: the user_id, \n",
    "        v:  the \"vector\" representation of the user (list of item_id)\n",
    "        dfh : the \"history of transaccions\" dataframe\n",
    "        \n",
    "    Returns:\n",
    "        tuple of lists ([similar user_id], [similarity scores])\n",
    "    \"\"\"\n",
    "    similar_users = dfh.apply(lambda v_other: compare_vectors(v, v_other)).sort_values(ascending=False).head(N_SIMILAR_USERS + 1)\n",
    "    \n",
    "    if DROP_USER_FROM_HIS_NEIGHBORHOOD:\n",
    "        similar_users = similar_users[similar_users.index != u]\n",
    "        \n",
    "    return similar_users.index.tolist(), similar_users.tolist()"
   ]
  },
  {
   "cell_type": "code",
   "execution_count": 12,
   "metadata": {},
   "outputs": [],
   "source": [
    "def get_items(u, v, dfh):\n",
    "    \"\"\" Get the recommend items for a given users\n",
    "    \n",
    "    It will:\n",
    "        1) Get similar users for the given user\n",
    "        2) Obtain all the items those users purchased\n",
    "        3) Rank them using the similarity scores of the user that purchased them\n",
    "        4) Return the 12 best ranked\n",
    "    \n",
    "    Arguments:\n",
    "        u: the user_id, \n",
    "        v:  the \"vector\" representation of the user (list of item_id)\n",
    "        dfh : the \"history of transaccions\" dataframe\n",
    "        \n",
    "    Returns:\n",
    "        list of item_id of lenght at most 12\n",
    "    \"\"\"\n",
    "    global i, n\n",
    "    \n",
    "    users, scores = get_similar_users(u, v, dfh)\n",
    "    df_nn = pd.DataFrame({'user': users, 'score': scores})\n",
    "    df_nn['items'] = df_nn.apply(lambda row: dfh.loc[row.user], axis=1)\n",
    "    df_nn['weighted_items'] = df_nn.apply(lambda row: [(item, row.score) for item in row['items']], axis=1)\n",
    "\n",
    "    recs = pd.DataFrame(flatten(df_nn['weighted_items'].tolist()), columns=['item', 'score']).groupby('item')['score'].sum().sort_values(ascending=False)\n",
    "    if DROP_PURCHASED_ITEMS:\n",
    "        recs = recs[~recs.index.isin(v)]\n",
    "    # Keep the first 12 and get the item_ids\n",
    "    i +=1\n",
    "    if i % 200 == 0:\n",
    "        pid = mp.current_process().pid\n",
    "        print(f\"[PID {pid:>2d}] Finished {i:3d} / {n:5d} - {i/n*100:3.0f}%\")\n",
    "    return recs.head(12).index.tolist()"
   ]
  },
  {
   "cell_type": "code",
   "execution_count": 13,
   "metadata": {},
   "outputs": [],
   "source": [
    "def get_items_chunk(user_ids: np.array, dfh: pd.DataFrame):\n",
    "    \"\"\" Call get_item for a list of user_ids\n",
    "    \n",
    "    Arguments:\n",
    "        user_ids: list of user_id, \n",
    "        dfh: the \"history of transaccions\" dataframe\n",
    "        \n",
    "    Returns:\n",
    "        pd.Series with index user_id and list of item_id (recommendations) as value\n",
    "    \"\"\"\n",
    "    global i, n\n",
    "    i = 0\n",
    "    \n",
    "    n = len(user_ids)\n",
    "    pid = mp.current_process().pid\n",
    "    print(f\"[PID {pid:>2d}] Started working with {n:5d} users\")\n",
    "    \n",
    "    df_user_vectors = pd.DataFrame(dfh.loc[user_ids]).reset_index()\n",
    "    df_user_vectors['recs'] = df_user_vectors.apply(lambda row: get_items(row.user_id, row.item_id, dfh), axis=1)\n",
    "    return df_user_vectors.set_index('user_id')['recs']"
   ]
  },
  {
   "cell_type": "code",
   "execution_count": 14,
   "metadata": {},
   "outputs": [],
   "source": [
    "def get_recommendations(users: list, dfh: pd.DataFrame):\n",
    "    \"\"\"\n",
    "    Obtained recommendation for the users using transaccion dfh in a parallelized manner\n",
    "    \n",
    "    Call get_items_chunk in a \"smart\" multiprocessing fashion\n",
    "    \n",
    "    Arguments:\n",
    "        users: list of user_id\n",
    "        dfh: the \"history of transaccions\" dataframe\n",
    "    \n",
    "    Returns:\n",
    "        pd.DataFrame with index user_id and list of item_id (recommendations) as value\n",
    "    \n",
    "    \"\"\"\n",
    "    time_start = time.time()\n",
    "    \n",
    "    # Split into approximately evenly sized chunks\n",
    "    # We will send just one batch to each CPU \n",
    "    user_chunks = np.array_split(users, mp.cpu_count())\n",
    "    \n",
    "    f = partial(get_items_chunk, dfh=dfh)\n",
    "    with Pool(mp.cpu_count()) as p:\n",
    "        res = p.map(f, user_chunks)\n",
    "    \n",
    "    df_rec = pd.DataFrame(pd.concat(res))\n",
    "\n",
    "    elapsed = (time.time() - time_start) / 60\n",
    "    print(f\"Finished get_recommendations({len(users)}). It took {elapsed:5.2f} mins\")\n",
    "    return df_rec"
   ]
  },
  {
   "cell_type": "code",
   "execution_count": 15,
   "metadata": {},
   "outputs": [],
   "source": [
    "def uucf(df, start_date=START_DATE):\n",
    "    \"\"\" Entry point for the UUCF model. \n",
    "    \n",
    "    Receive the original transactions_train.csv and a start_date and gets UUCF recommendations\n",
    "    \n",
    "    The model will not cover the full list of users, but just a subset of them.\n",
    "    \n",
    "    It will provide recommendations for users with at least MINIMUM_PURCHASES after start_date.\n",
    "    It might return less than 12 recs per user.\n",
    "    \n",
    "    An ad-hoc function for filling these gaps should be used downstream.\n",
    "    (See fill functionality right below)\n",
    "    \n",
    "    \n",
    "    Arguments:\n",
    "        df: The raw dataframe from transactions_train.csv\n",
    "        start_date: a date\n",
    "        \n",
    "    Returns:\n",
    "        a submission-like pd.DataFrame with columns [customer_id, prediction]\n",
    "        'prediction' is a list and not a string though\n",
    "    \n",
    "    \"\"\"\n",
    "    df_small = df[df['t_dat'] > start_date]\n",
    "    print(f\"Kept data from {start_date} on. Total rows: {len(df_small)}\")\n",
    "    \n",
    "    # H stands for \"Transaction history\"\n",
    "    # dfh is a series of user_id => list of item_id (the list of purchases in order)\n",
    "    dfh = df_small.groupby(\"user_id\")['item_id'].apply(lambda items: list(set(items)))\n",
    "    dfh = dfh[dfh.str.len() >= MINIMUM_PURCHASES]\n",
    "    if TEST_RUN:\n",
    "        print(\"WARNING: TEST_RUN is True. It will be a toy execution.\")\n",
    "        dfh = dfh.head(TEST_SIZE)\n",
    "    \n",
    "    users = dfh.index.tolist()\n",
    "    n_users = len(users)\n",
    "    print(f\"Total users in the time frame with at least {MINIMUM_PURCHASES}: {n_users}\")\n",
    "    \n",
    "    df_rec = get_recommendations(users, dfh)\n",
    "    df_rec['customer_id'] = df_rec.index.map(user_to_customer_map)\n",
    "    df_rec['prediction'] = df_rec['recs'].map(lambda l: [item_to_article_map[i] for i in l])\n",
    "    \n",
    "    # Submission ready dataframe\n",
    "    df_rec.reset_index(drop=True)[['customer_id', 'prediction']]\n",
    "    return df_rec "
   ]
  },
  {
   "cell_type": "markdown",
   "metadata": {},
   "source": [
    "### Prediction\n"
   ]
  },
  {
   "cell_type": "code",
   "execution_count": 16,
   "metadata": {},
   "outputs": [],
   "source": [
    "import time\n",
    "import multiprocessing as mp\n",
    "from multiprocessing import Pool\n",
    "from functools import partial"
   ]
  },
  {
   "cell_type": "code",
   "execution_count": 17,
   "metadata": {},
   "outputs": [
    {
     "name": "stdout",
     "output_type": "stream",
     "text": [
      "Kept data from 2020-08-21 on. Total rows: 1244\n",
      "Total users in the time frame with at least 5: 77\n"
     ]
    }
   ],
   "source": [
    "%%timeit\n",
    "df_recs = uucf(transactions)"
   ]
  },
  {
   "cell_type": "code",
   "execution_count": null,
   "metadata": {},
   "outputs": [],
   "source": [
    "df_recs.to_csv('uucf.csv')"
   ]
  }
 ],
 "metadata": {
  "kernelspec": {
   "display_name": "Python 3.8.6rc1 64-bit",
   "language": "python",
   "name": "python3"
  },
  "language_info": {
   "codemirror_mode": {
    "name": "ipython",
    "version": 3
   },
   "file_extension": ".py",
   "mimetype": "text/x-python",
   "name": "python",
   "nbconvert_exporter": "python",
   "pygments_lexer": "ipython3",
   "version": "3.8.6"
  },
  "orig_nbformat": 4,
  "vscode": {
   "interpreter": {
    "hash": "d497afcb27c4170d6f28afcfe58d2930d35f83971cfaaac5d6cefda89acf2100"
   }
  }
 },
 "nbformat": 4,
 "nbformat_minor": 2
}
