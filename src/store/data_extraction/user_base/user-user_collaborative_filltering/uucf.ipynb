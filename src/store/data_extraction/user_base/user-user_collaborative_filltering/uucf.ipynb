{
  "cells": [
    {
      "cell_type": "code",
      "execution_count": 30,
      "metadata": {
        "id": "7UmsFIcLBhCZ"
      },
      "outputs": [],
      "source": [
        "import numpy as np\n",
        "import matplotlib.pyplot as plt\n",
        "import seaborn as sns\n",
        "import pandas as pd\n",
        "\n",
        "from tqdm import tqdm\n",
        "import datetime\n",
        "\n",
        "sns.set_style('darkgrid')\n",
        "pd.options.display.max_rows = None"
      ]
    },
    {
      "cell_type": "code",
      "execution_count": 31,
      "metadata": {
        "id": "zesAv4Z5BhCa"
      },
      "outputs": [],
      "source": [
        "transactions = pd.read_csv('../../../data/transactions_train_sample.csv',dtype={\"article_id\": \"str\"})\n",
        "transactions[\"t_dat\"] = pd.to_datetime(transactions[\"t_dat\"])"
      ]
    },
    {
      "cell_type": "code",
      "execution_count": 32,
      "metadata": {
        "colab": {
          "base_uri": "https://localhost:8080/",
          "height": 297
        },
        "id": "832lU3dnBhCb",
        "outputId": "63594c0f-04c5-4213-fc18-5df5e24dc5a7"
      },
      "outputs": [
        {
          "data": {
            "text/plain": [
              "<AxesSubplot:xlabel='transaction_count', ylabel='Count'>"
            ]
          },
          "execution_count": 32,
          "metadata": {},
          "output_type": "execute_result"
        },
        {
          "data": {
            "image/png": "[encoded data removed]",
            "text/plain": [
              "<Figure size 432x288 with 1 Axes>"
            ]
          },
          "metadata": {},
          "output_type": "display_data"
        }
      ],
      "source": [
        "tmp = transactions.groupby('customer_id').article_id.count().reset_index()\n",
        "tmp.columns = ['customer_id','transaction_count']\n",
        "sns.histplot(data=tmp,x='transaction_count')"
      ]
    },
    {
      "cell_type": "markdown",
      "metadata": {
        "id": "iAHj0mVIBhCb"
      },
      "source": [
        "### Map customer_id and article_id to incremental intergers"
      ]
    },
    {
      "cell_type": "code",
      "execution_count": 30,
      "metadata": {
        "id": "J6-c67ajBhCd"
      },
      "outputs": [],
      "source": [
        "ALL_USERS = transactions.customer_id.unique().tolist()\n",
        "ALL_ITEMS = transactions.article_id.unique().tolist()\n",
        "\n",
        "user_to_customer_map = {u:c for u,c in zip(range(len(ALL_USERS)),ALL_USERS)}\n",
        "customer_to_user_map = {c:u for u,c in zip(range(len(ALL_USERS)),ALL_USERS)}\n",
        "\n",
        "item_to_article_map = {i:a for i,a in zip(range(len(ALL_ITEMS)),ALL_ITEMS)}\n",
        "article_to_item_map = {a:i for i,a in zip(range(len(ALL_ITEMS)),ALL_ITEMS)}\n",
        "\n",
        "transactions['user_id'] = transactions['customer_id'].map(customer_to_user_map)\n",
        "transactions['item_id'] = transactions['article_id'].map(article_to_item_map)"
      ]
    },
    {
      "cell_type": "code",
      "execution_count": 31,
      "metadata": {
        "colab": {
          "base_uri": "https://localhost:8080/",
          "height": 357
        },
        "id": "vJz5qjZNBhCe",
        "outputId": "6c0de9a8-f376-4106-bbee-ce019f8d8e7d"
      },
      "outputs": [
        {
          "data": {
            "text/html": [
              "\n",
              "  <div id=\"df-fe6a0a50-de6e-4e4e-ae60-615e132e1511\">\n",
              "    <div class=\"colab-df-container\">\n",
              "      <div>\n",
              "<style scoped>\n",
              "    .dataframe tbody tr th:only-of-type {\n",
              "        vertical-align: middle;\n",
              "    }\n",
              "\n",
              "    .dataframe tbody tr th {\n",
              "        vertical-align: top;\n",
              "    }\n",
              "\n",
              "    .dataframe thead th {\n",
              "        text-align: right;\n",
              "    }\n",
              "</style>\n",
              "<table border=\"1\" class=\"dataframe\">\n",
              "  <thead>\n",
              "    <tr style=\"text-align: right;\">\n",
              "      <th></th>\n",
              "      <th>t_dat</th>\n",
              "      <th>customer_id</th>\n",
              "      <th>article_id</th>\n",
              "      <th>price</th>\n",
              "      <th>sales_channel_id</th>\n",
              "      <th>user_id</th>\n",
              "      <th>item_id</th>\n",
              "    </tr>\n",
              "  </thead>\n",
              "  <tbody>\n",
              "    <tr>\n",
              "      <th>0</th>\n",
              "      <td>2020-08-22</td>\n",
              "      <td>018df2e9f27d47c0670b9742cbea597e9f06272d2ec8d5...</td>\n",
              "      <td>0868037001</td>\n",
              "      <td>0.067780</td>\n",
              "      <td>2</td>\n",
              "      <td>0</td>\n",
              "      <td>0</td>\n",
              "    </tr>\n",
              "    <tr>\n",
              "      <th>1</th>\n",
              "      <td>2020-08-22</td>\n",
              "      <td>01f4206190d208e8c27272a1be22ab728bb134f773ca52...</td>\n",
              "      <td>0730570029</td>\n",
              "      <td>0.018627</td>\n",
              "      <td>2</td>\n",
              "      <td>1</td>\n",
              "      <td>1</td>\n",
              "    </tr>\n",
              "    <tr>\n",
              "      <th>2</th>\n",
              "      <td>2020-08-22</td>\n",
              "      <td>01f4206190d208e8c27272a1be22ab728bb134f773ca52...</td>\n",
              "      <td>0919786001</td>\n",
              "      <td>0.042356</td>\n",
              "      <td>2</td>\n",
              "      <td>1</td>\n",
              "      <td>2</td>\n",
              "    </tr>\n",
              "    <tr>\n",
              "      <th>3</th>\n",
              "      <td>2020-08-22</td>\n",
              "      <td>01f4206190d208e8c27272a1be22ab728bb134f773ca52...</td>\n",
              "      <td>0874110001</td>\n",
              "      <td>0.025407</td>\n",
              "      <td>2</td>\n",
              "      <td>1</td>\n",
              "      <td>3</td>\n",
              "    </tr>\n",
              "    <tr>\n",
              "      <th>4</th>\n",
              "      <td>2020-08-22</td>\n",
              "      <td>02ae5ea6cd4582e66730e9dea1774981717803d5ff2567...</td>\n",
              "      <td>0799365011</td>\n",
              "      <td>0.050831</td>\n",
              "      <td>2</td>\n",
              "      <td>2</td>\n",
              "      <td>4</td>\n",
              "    </tr>\n",
              "  </tbody>\n",
              "</table>\n",
              "</div>\n",
              "      <button class=\"colab-df-convert\" onclick=\"convertToInteractive('df-fe6a0a50-de6e-4e4e-ae60-615e132e1511')\"\n",
              "              title=\"Convert this dataframe to an interactive table.\"\n",
              "              style=\"display:none;\">\n",
              "        \n",
              "  <svg xmlns=\"http://www.w3.org/2000/svg\" height=\"24px\"viewBox=\"0 0 24 24\"\n",
              "       width=\"24px\">\n",
              "    <path d=\"M0 0h24v24H0V0z\" fill=\"none\"/>\n",
              "    <path d=\"M18.56 5.44l.94 2.06.94-2.06 2.06-.94-2.06-.94-.94-2.06-.94 2.06-2.06.94zm-11 1L8.5 8.5l.94-2.06 2.06-.94-2.06-.94L8.5 2.5l-.94 2.06-2.06.94zm10 10l.94 2.06.94-2.06 2.06-.94-2.06-.94-.94-2.06-.94 2.06-2.06.94z\"/><path d=\"M17.41 7.96l-1.37-1.37c-.4-.4-.92-.59-1.43-.59-.52 0-1.04.2-1.43.59L10.3 9.45l-7.72 7.72c-.78.78-.78 2.05 0 2.83L4 21.41c.39.39.9.59 1.41.59.51 0 1.02-.2 1.41-.59l7.78-7.78 2.81-2.81c.8-.78.8-2.07 0-2.86zM5.41 20L4 18.59l7.72-7.72 1.47 1.35L5.41 20z\"/>\n",
              "  </svg>\n",
              "      </button>\n",
              "      \n",
              "  <style>\n",
              "    .colab-df-container {\n",
              "      display:flex;\n",
              "      flex-wrap:wrap;\n",
              "      gap: 12px;\n",
              "    }\n",
              "\n",
              "    .colab-df-convert {\n",
              "      background-color: #E8F0FE;\n",
              "      border: none;\n",
              "      border-radius: 50%;\n",
              "      cursor: pointer;\n",
              "      display: none;\n",
              "      fill: #1967D2;\n",
              "      height: 32px;\n",
              "      padding: 0 0 0 0;\n",
              "      width: 32px;\n",
              "    }\n",
              "\n",
              "    .colab-df-convert:hover {\n",
              "      background-color: #E2EBFA;\n",
              "      box-shadow: 0px 1px 2px rgba(60, 64, 67, 0.3), 0px 1px 3px 1px rgba(60, 64, 67, 0.15);\n",
              "      fill: #174EA6;\n",
              "    }\n",
              "\n",
              "    [theme=dark] .colab-df-convert {\n",
              "      background-color: #3B4455;\n",
              "      fill: #D2E3FC;\n",
              "    }\n",
              "\n",
              "    [theme=dark] .colab-df-convert:hover {\n",
              "      background-color: #434B5C;\n",
              "      box-shadow: 0px 1px 3px 1px rgba(0, 0, 0, 0.15);\n",
              "      filter: drop-shadow(0px 1px 2px rgba(0, 0, 0, 0.3));\n",
              "      fill: #FFFFFF;\n",
              "    }\n",
              "  </style>\n",
              "\n",
              "      <script>\n",
              "        const buttonEl =\n",
              "          document.querySelector('#df-fe6a0a50-de6e-4e4e-ae60-615e132e1511 button.colab-df-convert');\n",
              "        buttonEl.style.display =\n",
              "          google.colab.kernel.accessAllowed ? 'block' : 'none';\n",
              "\n",
              "        async function convertToInteractive(key) {\n",
              "          const element = document.querySelector('#df-fe6a0a50-de6e-4e4e-ae60-615e132e1511');\n",
              "          const dataTable =\n",
              "            await google.colab.kernel.invokeFunction('convertToInteractive',\n",
              "                                                     [key], {});\n",
              "          if (!dataTable) return;\n",
              "\n",
              "          const docLinkHtml = 'Like what you see? Visit the ' +\n",
              "            '<a target=\"_blank\" href=https://colab.research.google.com/notebooks/data_table.ipynb>data table notebook</a>'\n",
              "            + ' to learn more about interactive tables.';\n",
              "          element.innerHTML = '';\n",
              "          dataTable['output_type'] = 'display_data';\n",
              "          await google.colab.output.renderOutput(dataTable, element);\n",
              "          const docLink = document.createElement('div');\n",
              "          docLink.innerHTML = docLinkHtml;\n",
              "          element.appendChild(docLink);\n",
              "        }\n",
              "      </script>\n",
              "    </div>\n",
              "  </div>\n",
              "  "
            ],
            "text/plain": [
              "       t_dat                                        customer_id  article_id  \\\n",
              "0 2020-08-22  018df2e9f27d47c0670b9742cbea597e9f06272d2ec8d5...  0868037001   \n",
              "1 2020-08-22  01f4206190d208e8c27272a1be22ab728bb134f773ca52...  0730570029   \n",
              "2 2020-08-22  01f4206190d208e8c27272a1be22ab728bb134f773ca52...  0919786001   \n",
              "3 2020-08-22  01f4206190d208e8c27272a1be22ab728bb134f773ca52...  0874110001   \n",
              "4 2020-08-22  02ae5ea6cd4582e66730e9dea1774981717803d5ff2567...  0799365011   \n",
              "\n",
              "      price  sales_channel_id  user_id  item_id  \n",
              "0  0.067780                 2        0        0  \n",
              "1  0.018627                 2        1        1  \n",
              "2  0.042356                 2        1        2  \n",
              "3  0.025407                 2        1        3  \n",
              "4  0.050831                 2        2        4  "
            ]
          },
          "execution_count": 31,
          "metadata": {},
          "output_type": "execute_result"
        }
      ],
      "source": [
        "transactions.head()"
      ]
    },
    {
      "cell_type": "markdown",
      "metadata": {
        "id": "wjXHPOyBBhCf"
      },
      "source": [
        "### Build Model"
      ]
    },
    {
      "cell_type": "markdown",
      "metadata": {
        "id": "rSuFf0UZBhCf"
      },
      "source": [
        "**Configuration parameters**\n",
        "\n",
        "Since UUCF is very computationally expensive, we only apply on a small subset of users.\n",
        "\n",
        "We will reduce data base on a front:\n",
        "- Keep only the user with at least `MINIMUM_PURCHASES`"
      ]
    },
    {
      "cell_type": "code",
      "execution_count": 33,
      "metadata": {
        "id": "U-hEXUm9BhCh"
      },
      "outputs": [],
      "source": [
        "N_SIMILAR_USERS = 30\n",
        "\n",
        "DROP_PURCHASED_ITEMS = True\n",
        "\n",
        "MINIMUM_PURCHASES = 3\n",
        "\n",
        "DROP_USER_FROM_HIS_NEIGHBORHOOD = True"
      ]
    },
    {
      "cell_type": "code",
      "execution_count": 34,
      "metadata": {
        "id": "jO9ilYlTBhCi"
      },
      "outputs": [],
      "source": [
        "def flatten(l):\n",
        "    return [item for sublist in l for item in sublist]"
      ]
    },
    {
      "cell_type": "code",
      "execution_count": 35,
      "metadata": {
        "id": "KTKOvJWyBhCi"
      },
      "outputs": [],
      "source": [
        "def compare_vectors(v1, v2):\n",
        "    intersection = len(set(v1) & set(v2))\n",
        "    denominator = np.sqrt(len(v1) * len(v2))\n",
        "    return intersection / denominator"
      ]
    },
    {
      "cell_type": "code",
      "execution_count": 36,
      "metadata": {
        "id": "dJI8qfNMBhCj"
      },
      "outputs": [],
      "source": [
        "def get_similar_users(u, v, dfh):\n",
        "    similar_users = dfh.apply(lambda v_other: compare_vectors(v, v_other)).sort_values(ascending=False).head(N_SIMILAR_USERS + 1)\n",
        "    \n",
        "    if DROP_USER_FROM_HIS_NEIGHBORHOOD:\n",
        "        similar_users = similar_users[similar_users.index != u]\n",
        "        \n",
        "    return similar_users.index.tolist(), similar_users.tolist()"
      ]
    },
    {
      "cell_type": "code",
      "execution_count": 37,
      "metadata": {
        "id": "vukRBpQ1BhCj"
      },
      "outputs": [],
      "source": [
        "def get_items(u, v, dfh):\n",
        "    global i, n\n",
        "    \n",
        "    users, scores = get_similar_users(u, v, dfh)\n",
        "    df_nn = pd.DataFrame({'user': users, 'score': scores})\n",
        "    df_nn['items'] = df_nn.apply(lambda row: dfh.loc[row.user], axis=1)\n",
        "    df_nn['weighted_items'] = df_nn.apply(lambda row: [(item, row.score) for item in row['items']], axis=1)\n",
        "\n",
        "    recs = pd.DataFrame(flatten(df_nn['weighted_items'].tolist()), columns=['item', 'score']).groupby('item')['score'].sum().sort_values(ascending=False)\n",
        "    if DROP_PURCHASED_ITEMS:\n",
        "        recs = recs[~recs.index.isin(v)]\n",
        "    # Keep the first 12 and get the item_ids\n",
        "    i +=1\n",
        "    if i % 200 == 0:\n",
        "        pid = mp.current_process().pid\n",
        "        print(f\"[PID {pid:>2d}] Finished {i:3d} / {n:5d} - {i/n*100:3.0f}%\")\n",
        "    return recs.head(6).index.tolist()"
      ]
    },
    {
      "cell_type": "code",
      "execution_count": 38,
      "metadata": {
        "id": "57T7R5qJBhCk"
      },
      "outputs": [],
      "source": [
        "def get_items_chunk(user_ids: np.array, dfh: pd.DataFrame):\n",
        "    global i, n\n",
        "    i = 0\n",
        "    \n",
        "    n = len(user_ids)\n",
        "    pid = mp.current_process().pid\n",
        "    print(f\"[PID {pid:>2d}] Started working with {n:5d} users\")\n",
        "    \n",
        "    df_user_vectors = pd.DataFrame(dfh.loc[user_ids]).reset_index()\n",
        "    df_user_vectors['recs'] = df_user_vectors.apply(lambda row: get_items(row.user_id, row.item_id, dfh), axis=1)\n",
        "    return df_user_vectors.set_index('user_id')['recs']"
      ]
    },
    {
      "cell_type": "code",
      "execution_count": 39,
      "metadata": {
        "id": "R-yPkhGJBhCk"
      },
      "outputs": [],
      "source": [
        "def get_recommendations(users: list, dfh: pd.DataFrame):\n",
        "    time_start = time.time()\n",
        "    \n",
        "    # Split into approximately evenly sized chunks\n",
        "    # We will send just one batch to each CPU \n",
        "    user_chunks = np.array_split(users, mp.cpu_count())\n",
        "    \n",
        "    f = partial(get_items_chunk, dfh=dfh)\n",
        "    with Pool(mp.cpu_count()) as p:\n",
        "        res = p.map(f, user_chunks)\n",
        "    \n",
        "    df_rec = pd.DataFrame(pd.concat(res))\n",
        "\n",
        "    elapsed = (time.time() - time_start) / 60\n",
        "    print(f\"Finished get_recommendations({len(users)}). It took {elapsed:5.2f} mins\")\n",
        "    return df_rec"
      ]
    },
    {
      "cell_type": "code",
      "execution_count": 40,
      "metadata": {
        "id": "mktVrbB0BhCk"
      },
      "outputs": [],
      "source": [
        "def uucf(df):\n",
        "    print(f\"Total rows: {len(df)}\")\n",
        "    \n",
        "    # H stands for \"Transaction history\"\n",
        "    # dfh is a series of user_id => list of item_id (the list of purchases in order)\n",
        "    dfh = df.groupby(\"user_id\")['item_id'].apply(lambda items: list(set(items)))\n",
        "    dfh = dfh[dfh.str.len() >= MINIMUM_PURCHASES]\n",
        "\n",
        "    users = dfh.index.tolist()\n",
        "    n_users = len(users)\n",
        "    print(f\"Total users in the time frame with at least {MINIMUM_PURCHASES}: {n_users}\")\n",
        "    \n",
        "    df_rec = get_recommendations(users, dfh)\n",
        "    df_rec['customer_id'] = df_rec.index.map(user_to_customer_map)\n",
        "    df_rec['prediction'] = df_rec['recs'].map(lambda l: [item_to_article_map[i] for i in l])\n",
        "    \n",
        "    # Submission ready dataframe\n",
        "    df_rec.reset_index(drop=True)[['customer_id', 'prediction']]\n",
        "    return df_rec "
      ]
    },
    {
      "cell_type": "markdown",
      "metadata": {
        "id": "SxQ2lvj4BhCl"
      },
      "source": [
        "### Prediction\n"
      ]
    },
    {
      "cell_type": "code",
      "execution_count": 41,
      "metadata": {
        "id": "sZ3arIHHBhCl"
      },
      "outputs": [],
      "source": [
        "import time\n",
        "import multiprocessing as mp\n",
        "from multiprocessing import Pool\n",
        "from functools import partial"
      ]
    },
    {
      "cell_type": "code",
      "execution_count": 42,
      "metadata": {
        "colab": {
          "base_uri": "https://localhost:8080/"
        },
        "id": "CNPwssadBhCl",
        "outputId": "157e2a83-9138-422f-d526-73cd17b1da15"
      },
      "outputs": [
        {
          "name": "stdout",
          "output_type": "stream",
          "text": [
            "Total rows: 59288\n",
            "Total users in the time frame with at least 3: 7032\n",
            "[PID 214] Started working with  3516 users\n",
            "[PID 215] Started working with  3516 users\n",
            "[PID 215] Finished 200 /  3516 -   6%\n",
            "[PID 214] Finished 200 /  3516 -   6%\n",
            "[PID 215] Finished 400 /  3516 -  11%\n",
            "[PID 214] Finished 400 /  3516 -  11%\n",
            "[PID 215] Finished 600 /  3516 -  17%\n",
            "[PID 214] Finished 600 /  3516 -  17%\n",
            "[PID 215] Finished 800 /  3516 -  23%\n",
            "[PID 214] Finished 800 /  3516 -  23%\n",
            "[PID 215] Finished 1000 /  3516 -  28%\n",
            "[PID 214] Finished 1000 /  3516 -  28%\n",
            "[PID 215] Finished 1200 /  3516 -  34%\n",
            "[PID 214] Finished 1200 /  3516 -  34%\n",
            "[PID 215] Finished 1400 /  3516 -  40%\n",
            "[PID 214] Finished 1400 /  3516 -  40%\n",
            "[PID 215] Finished 1600 /  3516 -  46%\n",
            "[PID 214] Finished 1600 /  3516 -  46%\n",
            "[PID 215] Finished 1800 /  3516 -  51%\n",
            "[PID 214] Finished 1800 /  3516 -  51%\n",
            "[PID 215] Finished 2000 /  3516 -  57%\n",
            "[PID 214] Finished 2000 /  3516 -  57%\n",
            "[PID 215] Finished 2200 /  3516 -  63%\n",
            "[PID 214] Finished 2200 /  3516 -  63%\n",
            "[PID 215] Finished 2400 /  3516 -  68%\n",
            "[PID 214] Finished 2400 /  3516 -  68%\n",
            "[PID 215] Finished 2600 /  3516 -  74%\n",
            "[PID 214] Finished 2600 /  3516 -  74%\n",
            "[PID 215] Finished 2800 /  3516 -  80%\n",
            "[PID 214] Finished 2800 /  3516 -  80%\n",
            "[PID 214] Finished 3000 /  3516 -  85%[PID 215] Finished 3000 /  3516 -  85%\n",
            "\n",
            "[PID 214] Finished 3200 /  3516 -  91%\n",
            "[PID 215] Finished 3200 /  3516 -  91%\n",
            "[PID 214] Finished 3400 /  3516 -  97%\n",
            "[PID 215] Finished 3400 /  3516 -  97%\n",
            "Finished get_recommendations(7032). It took  3.45 mins\n"
          ]
        }
      ],
      "source": [
        "df_recs = uucf(transactions)"
      ]
    },
    {
      "cell_type": "code",
      "execution_count": 43,
      "metadata": {
        "colab": {
          "base_uri": "https://localhost:8080/",
          "height": 368
        },
        "id": "ISG653dVIZ-J",
        "outputId": "b62d2b0e-18ec-4069-85d7-8aeb23c2389f"
      },
      "outputs": [
        {
          "data": {
            "text/html": [
              "\n",
              "  <div id=\"df-3105d13a-fbb1-41d9-ae6d-802aac7fc76b\">\n",
              "    <div class=\"colab-df-container\">\n",
              "      <div>\n",
              "<style scoped>\n",
              "    .dataframe tbody tr th:only-of-type {\n",
              "        vertical-align: middle;\n",
              "    }\n",
              "\n",
              "    .dataframe tbody tr th {\n",
              "        vertical-align: top;\n",
              "    }\n",
              "\n",
              "    .dataframe thead th {\n",
              "        text-align: right;\n",
              "    }\n",
              "</style>\n",
              "<table border=\"1\" class=\"dataframe\">\n",
              "  <thead>\n",
              "    <tr style=\"text-align: right;\">\n",
              "      <th></th>\n",
              "      <th>recs</th>\n",
              "      <th>customer_id</th>\n",
              "      <th>prediction</th>\n",
              "    </tr>\n",
              "    <tr>\n",
              "      <th>user_id</th>\n",
              "      <th></th>\n",
              "      <th></th>\n",
              "      <th></th>\n",
              "    </tr>\n",
              "  </thead>\n",
              "  <tbody>\n",
              "    <tr>\n",
              "      <th>0</th>\n",
              "      <td>[7858, 1681, 4215, 0, 9823, 2050]</td>\n",
              "      <td>018df2e9f27d47c0670b9742cbea597e9f06272d2ec8d5...</td>\n",
              "      <td>[0894780001, 0570189002, 0908081003, 086803700...</td>\n",
              "    </tr>\n",
              "    <tr>\n",
              "      <th>1</th>\n",
              "      <td>[3, 356, 1563, 2621, 7832, 1635]</td>\n",
              "      <td>01f4206190d208e8c27272a1be22ab728bb134f773ca52...</td>\n",
              "      <td>[0874110001, 0714790024, 0448509001, 080375701...</td>\n",
              "    </tr>\n",
              "    <tr>\n",
              "      <th>2</th>\n",
              "      <td>[19, 12, 17, 302, 554, 555]</td>\n",
              "      <td>02ae5ea6cd4582e66730e9dea1774981717803d5ff2567...</td>\n",
              "      <td>[0914441001, 0914441005, 0914441004, 087489100...</td>\n",
              "    </tr>\n",
              "    <tr>\n",
              "      <th>4</th>\n",
              "      <td>[21, 1642, 5034, 5035, 206, 3133]</td>\n",
              "      <td>03a3ea598ac18b8cd9efe64998af2aa7306b412ef5217a...</td>\n",
              "      <td>[0898694001, 0928088001, 0894135001, 086579900...</td>\n",
              "    </tr>\n",
              "    <tr>\n",
              "      <th>5</th>\n",
              "      <td>[28, 29, 27, 2786, 3702, 1004]</td>\n",
              "      <td>056729b03521f2526ca9a436f0ef8074ea870e6cc6de43...</td>\n",
              "      <td>[0399061008, 0852374013, 0716672003, 089768400...</td>\n",
              "    </tr>\n",
              "  </tbody>\n",
              "</table>\n",
              "</div>\n",
              "      <button class=\"colab-df-convert\" onclick=\"convertToInteractive('df-3105d13a-fbb1-41d9-ae6d-802aac7fc76b')\"\n",
              "              title=\"Convert this dataframe to an interactive table.\"\n",
              "              style=\"display:none;\">\n",
              "        \n",
              "  <svg xmlns=\"http://www.w3.org/2000/svg\" height=\"24px\"viewBox=\"0 0 24 24\"\n",
              "       width=\"24px\">\n",
              "    <path d=\"M0 0h24v24H0V0z\" fill=\"none\"/>\n",
              "    <path d=\"M18.56 5.44l.94 2.06.94-2.06 2.06-.94-2.06-.94-.94-2.06-.94 2.06-2.06.94zm-11 1L8.5 8.5l.94-2.06 2.06-.94-2.06-.94L8.5 2.5l-.94 2.06-2.06.94zm10 10l.94 2.06.94-2.06 2.06-.94-2.06-.94-.94-2.06-.94 2.06-2.06.94z\"/><path d=\"M17.41 7.96l-1.37-1.37c-.4-.4-.92-.59-1.43-.59-.52 0-1.04.2-1.43.59L10.3 9.45l-7.72 7.72c-.78.78-.78 2.05 0 2.83L4 21.41c.39.39.9.59 1.41.59.51 0 1.02-.2 1.41-.59l7.78-7.78 2.81-2.81c.8-.78.8-2.07 0-2.86zM5.41 20L4 18.59l7.72-7.72 1.47 1.35L5.41 20z\"/>\n",
              "  </svg>\n",
              "      </button>\n",
              "      \n",
              "  <style>\n",
              "    .colab-df-container {\n",
              "      display:flex;\n",
              "      flex-wrap:wrap;\n",
              "      gap: 12px;\n",
              "    }\n",
              "\n",
              "    .colab-df-convert {\n",
              "      background-color: #E8F0FE;\n",
              "      border: none;\n",
              "      border-radius: 50%;\n",
              "      cursor: pointer;\n",
              "      display: none;\n",
              "      fill: #1967D2;\n",
              "      height: 32px;\n",
              "      padding: 0 0 0 0;\n",
              "      width: 32px;\n",
              "    }\n",
              "\n",
              "    .colab-df-convert:hover {\n",
              "      background-color: #E2EBFA;\n",
              "      box-shadow: 0px 1px 2px rgba(60, 64, 67, 0.3), 0px 1px 3px 1px rgba(60, 64, 67, 0.15);\n",
              "      fill: #174EA6;\n",
              "    }\n",
              "\n",
              "    [theme=dark] .colab-df-convert {\n",
              "      background-color: #3B4455;\n",
              "      fill: #D2E3FC;\n",
              "    }\n",
              "\n",
              "    [theme=dark] .colab-df-convert:hover {\n",
              "      background-color: #434B5C;\n",
              "      box-shadow: 0px 1px 3px 1px rgba(0, 0, 0, 0.15);\n",
              "      filter: drop-shadow(0px 1px 2px rgba(0, 0, 0, 0.3));\n",
              "      fill: #FFFFFF;\n",
              "    }\n",
              "  </style>\n",
              "\n",
              "      <script>\n",
              "        const buttonEl =\n",
              "          document.querySelector('#df-3105d13a-fbb1-41d9-ae6d-802aac7fc76b button.colab-df-convert');\n",
              "        buttonEl.style.display =\n",
              "          google.colab.kernel.accessAllowed ? 'block' : 'none';\n",
              "\n",
              "        async function convertToInteractive(key) {\n",
              "          const element = document.querySelector('#df-3105d13a-fbb1-41d9-ae6d-802aac7fc76b');\n",
              "          const dataTable =\n",
              "            await google.colab.kernel.invokeFunction('convertToInteractive',\n",
              "                                                     [key], {});\n",
              "          if (!dataTable) return;\n",
              "\n",
              "          const docLinkHtml = 'Like what you see? Visit the ' +\n",
              "            '<a target=\"_blank\" href=https://colab.research.google.com/notebooks/data_table.ipynb>data table notebook</a>'\n",
              "            + ' to learn more about interactive tables.';\n",
              "          element.innerHTML = '';\n",
              "          dataTable['output_type'] = 'display_data';\n",
              "          await google.colab.output.renderOutput(dataTable, element);\n",
              "          const docLink = document.createElement('div');\n",
              "          docLink.innerHTML = docLinkHtml;\n",
              "          element.appendChild(docLink);\n",
              "        }\n",
              "      </script>\n",
              "    </div>\n",
              "  </div>\n",
              "  "
            ],
            "text/plain": [
              "                                      recs  \\\n",
              "user_id                                      \n",
              "0        [7858, 1681, 4215, 0, 9823, 2050]   \n",
              "1         [3, 356, 1563, 2621, 7832, 1635]   \n",
              "2              [19, 12, 17, 302, 554, 555]   \n",
              "4        [21, 1642, 5034, 5035, 206, 3133]   \n",
              "5           [28, 29, 27, 2786, 3702, 1004]   \n",
              "\n",
              "                                               customer_id  \\\n",
              "user_id                                                      \n",
              "0        018df2e9f27d47c0670b9742cbea597e9f06272d2ec8d5...   \n",
              "1        01f4206190d208e8c27272a1be22ab728bb134f773ca52...   \n",
              "2        02ae5ea6cd4582e66730e9dea1774981717803d5ff2567...   \n",
              "4        03a3ea598ac18b8cd9efe64998af2aa7306b412ef5217a...   \n",
              "5        056729b03521f2526ca9a436f0ef8074ea870e6cc6de43...   \n",
              "\n",
              "                                                prediction  \n",
              "user_id                                                     \n",
              "0        [0894780001, 0570189002, 0908081003, 086803700...  \n",
              "1        [0874110001, 0714790024, 0448509001, 080375701...  \n",
              "2        [0914441001, 0914441005, 0914441004, 087489100...  \n",
              "4        [0898694001, 0928088001, 0894135001, 086579900...  \n",
              "5        [0399061008, 0852374013, 0716672003, 089768400...  "
            ]
          },
          "execution_count": 43,
          "metadata": {},
          "output_type": "execute_result"
        }
      ],
      "source": [
        "df_recs.head()"
      ]
    },
    {
      "cell_type": "code",
      "execution_count": 44,
      "metadata": {
        "id": "iwpes42mG-nb"
      },
      "outputs": [],
      "source": [
        "df_recs = df_recs.drop(['recs'], axis=1)"
      ]
    },
    {
      "cell_type": "code",
      "execution_count": 45,
      "metadata": {
        "id": "74gejD7uHiYS"
      },
      "outputs": [],
      "source": [
        "df_recs.prediction = df_recs.prediction.apply(lambda x: ' '.join(x))"
      ]
    },
    {
      "cell_type": "code",
      "execution_count": 46,
      "metadata": {
        "colab": {
          "base_uri": "https://localhost:8080/",
          "height": 281
        },
        "id": "tjF5VC3mI5I5",
        "outputId": "18719d68-35c9-4aab-bb43-1964a11e72d6"
      },
      "outputs": [
        {
          "data": {
            "text/html": [
              "\n",
              "  <div id=\"df-a319a25d-2eee-4fb6-b6ec-3cff365df924\">\n",
              "    <div class=\"colab-df-container\">\n",
              "      <div>\n",
              "<style scoped>\n",
              "    .dataframe tbody tr th:only-of-type {\n",
              "        vertical-align: middle;\n",
              "    }\n",
              "\n",
              "    .dataframe tbody tr th {\n",
              "        vertical-align: top;\n",
              "    }\n",
              "\n",
              "    .dataframe thead th {\n",
              "        text-align: right;\n",
              "    }\n",
              "</style>\n",
              "<table border=\"1\" class=\"dataframe\">\n",
              "  <thead>\n",
              "    <tr style=\"text-align: right;\">\n",
              "      <th></th>\n",
              "      <th>customer_id</th>\n",
              "      <th>prediction</th>\n",
              "    </tr>\n",
              "    <tr>\n",
              "      <th>user_id</th>\n",
              "      <th></th>\n",
              "      <th></th>\n",
              "    </tr>\n",
              "  </thead>\n",
              "  <tbody>\n",
              "    <tr>\n",
              "      <th>0</th>\n",
              "      <td>018df2e9f27d47c0670b9742cbea597e9f06272d2ec8d5...</td>\n",
              "      <td>0894780001 0570189002 0908081003 0868037001 09...</td>\n",
              "    </tr>\n",
              "    <tr>\n",
              "      <th>1</th>\n",
              "      <td>01f4206190d208e8c27272a1be22ab728bb134f773ca52...</td>\n",
              "      <td>0874110001 0714790024 0448509001 0803757015 08...</td>\n",
              "    </tr>\n",
              "    <tr>\n",
              "      <th>2</th>\n",
              "      <td>02ae5ea6cd4582e66730e9dea1774981717803d5ff2567...</td>\n",
              "      <td>0914441001 0914441005 0914441004 0874891003 08...</td>\n",
              "    </tr>\n",
              "    <tr>\n",
              "      <th>4</th>\n",
              "      <td>03a3ea598ac18b8cd9efe64998af2aa7306b412ef5217a...</td>\n",
              "      <td>0898694001 0928088001 0894135001 0865799005 08...</td>\n",
              "    </tr>\n",
              "    <tr>\n",
              "      <th>5</th>\n",
              "      <td>056729b03521f2526ca9a436f0ef8074ea870e6cc6de43...</td>\n",
              "      <td>0399061008 0852374013 0716672003 0897684002 08...</td>\n",
              "    </tr>\n",
              "  </tbody>\n",
              "</table>\n",
              "</div>\n",
              "      <button class=\"colab-df-convert\" onclick=\"convertToInteractive('df-a319a25d-2eee-4fb6-b6ec-3cff365df924')\"\n",
              "              title=\"Convert this dataframe to an interactive table.\"\n",
              "              style=\"display:none;\">\n",
              "        \n",
              "  <svg xmlns=\"http://www.w3.org/2000/svg\" height=\"24px\"viewBox=\"0 0 24 24\"\n",
              "       width=\"24px\">\n",
              "    <path d=\"M0 0h24v24H0V0z\" fill=\"none\"/>\n",
              "    <path d=\"M18.56 5.44l.94 2.06.94-2.06 2.06-.94-2.06-.94-.94-2.06-.94 2.06-2.06.94zm-11 1L8.5 8.5l.94-2.06 2.06-.94-2.06-.94L8.5 2.5l-.94 2.06-2.06.94zm10 10l.94 2.06.94-2.06 2.06-.94-2.06-.94-.94-2.06-.94 2.06-2.06.94z\"/><path d=\"M17.41 7.96l-1.37-1.37c-.4-.4-.92-.59-1.43-.59-.52 0-1.04.2-1.43.59L10.3 9.45l-7.72 7.72c-.78.78-.78 2.05 0 2.83L4 21.41c.39.39.9.59 1.41.59.51 0 1.02-.2 1.41-.59l7.78-7.78 2.81-2.81c.8-.78.8-2.07 0-2.86zM5.41 20L4 18.59l7.72-7.72 1.47 1.35L5.41 20z\"/>\n",
              "  </svg>\n",
              "      </button>\n",
              "      \n",
              "  <style>\n",
              "    .colab-df-container {\n",
              "      display:flex;\n",
              "      flex-wrap:wrap;\n",
              "      gap: 12px;\n",
              "    }\n",
              "\n",
              "    .colab-df-convert {\n",
              "      background-color: #E8F0FE;\n",
              "      border: none;\n",
              "      border-radius: 50%;\n",
              "      cursor: pointer;\n",
              "      display: none;\n",
              "      fill: #1967D2;\n",
              "      height: 32px;\n",
              "      padding: 0 0 0 0;\n",
              "      width: 32px;\n",
              "    }\n",
              "\n",
              "    .colab-df-convert:hover {\n",
              "      background-color: #E2EBFA;\n",
              "      box-shadow: 0px 1px 2px rgba(60, 64, 67, 0.3), 0px 1px 3px 1px rgba(60, 64, 67, 0.15);\n",
              "      fill: #174EA6;\n",
              "    }\n",
              "\n",
              "    [theme=dark] .colab-df-convert {\n",
              "      background-color: #3B4455;\n",
              "      fill: #D2E3FC;\n",
              "    }\n",
              "\n",
              "    [theme=dark] .colab-df-convert:hover {\n",
              "      background-color: #434B5C;\n",
              "      box-shadow: 0px 1px 3px 1px rgba(0, 0, 0, 0.15);\n",
              "      filter: drop-shadow(0px 1px 2px rgba(0, 0, 0, 0.3));\n",
              "      fill: #FFFFFF;\n",
              "    }\n",
              "  </style>\n",
              "\n",
              "      <script>\n",
              "        const buttonEl =\n",
              "          document.querySelector('#df-a319a25d-2eee-4fb6-b6ec-3cff365df924 button.colab-df-convert');\n",
              "        buttonEl.style.display =\n",
              "          google.colab.kernel.accessAllowed ? 'block' : 'none';\n",
              "\n",
              "        async function convertToInteractive(key) {\n",
              "          const element = document.querySelector('#df-a319a25d-2eee-4fb6-b6ec-3cff365df924');\n",
              "          const dataTable =\n",
              "            await google.colab.kernel.invokeFunction('convertToInteractive',\n",
              "                                                     [key], {});\n",
              "          if (!dataTable) return;\n",
              "\n",
              "          const docLinkHtml = 'Like what you see? Visit the ' +\n",
              "            '<a target=\"_blank\" href=https://colab.research.google.com/notebooks/data_table.ipynb>data table notebook</a>'\n",
              "            + ' to learn more about interactive tables.';\n",
              "          element.innerHTML = '';\n",
              "          dataTable['output_type'] = 'display_data';\n",
              "          await google.colab.output.renderOutput(dataTable, element);\n",
              "          const docLink = document.createElement('div');\n",
              "          docLink.innerHTML = docLinkHtml;\n",
              "          element.appendChild(docLink);\n",
              "        }\n",
              "      </script>\n",
              "    </div>\n",
              "  </div>\n",
              "  "
            ],
            "text/plain": [
              "                                               customer_id  \\\n",
              "user_id                                                      \n",
              "0        018df2e9f27d47c0670b9742cbea597e9f06272d2ec8d5...   \n",
              "1        01f4206190d208e8c27272a1be22ab728bb134f773ca52...   \n",
              "2        02ae5ea6cd4582e66730e9dea1774981717803d5ff2567...   \n",
              "4        03a3ea598ac18b8cd9efe64998af2aa7306b412ef5217a...   \n",
              "5        056729b03521f2526ca9a436f0ef8074ea870e6cc6de43...   \n",
              "\n",
              "                                                prediction  \n",
              "user_id                                                     \n",
              "0        0894780001 0570189002 0908081003 0868037001 09...  \n",
              "1        0874110001 0714790024 0448509001 0803757015 08...  \n",
              "2        0914441001 0914441005 0914441004 0874891003 08...  \n",
              "4        0898694001 0928088001 0894135001 0865799005 08...  \n",
              "5        0399061008 0852374013 0716672003 0897684002 08...  "
            ]
          },
          "execution_count": 46,
          "metadata": {},
          "output_type": "execute_result"
        }
      ],
      "source": [
        "df_recs.head()"
      ]
    },
    {
      "cell_type": "code",
      "execution_count": 47,
      "metadata": {
        "id": "CnSOnVWxBhCl"
      },
      "outputs": [],
      "source": [
        "df_recs.to_csv('uucf.csv',index=False)"
      ]
    },
    {
      "cell_type": "markdown",
      "metadata": {
        "id": "ltT8FSv8sKqF"
      },
      "source": [
        "### Visulize Prediction"
      ]
    },
    {
      "cell_type": "code",
      "execution_count": 33,
      "metadata": {
        "id": "Dwr1C6IjPb_U"
      },
      "outputs": [],
      "source": [
        "import math\n",
        "import random"
      ]
    },
    {
      "cell_type": "code",
      "execution_count": 34,
      "metadata": {
        "id": "j6uHVLxFsKqF"
      },
      "outputs": [],
      "source": [
        "df_recs = pd.read_csv('uucf.csv')"
      ]
    },
    {
      "cell_type": "code",
      "execution_count": 38,
      "metadata": {
        "colab": {
          "base_uri": "https://localhost:8080/"
        },
        "id": "iZWFyhClsKqF",
        "outputId": "8b75b800-244b-4bf6-a573-76bf270f0830"
      },
      "outputs": [
        {
          "name": "stdout",
          "output_type": "stream",
          "text": [
            "cus_id: ca3be0fdad709312ff004398f3a50b1023c2e06bf0bae7244e1c2ae91be2640a\n",
            "pred: ['0868823008', '0907527001', '0918292004', '0791587001', '0856270002', '0832482001']\n",
            "last_purchase: ['0916926006', '0865250001', '0918292001']\n",
            "Prediction\n"
          ]
        },
        {
          "data": {
            "image/png": "[encoded data removed]",
            "text/plain": [
              "<Figure size 864x216 with 6 Axes>"
            ]
          },
          "metadata": {},
          "output_type": "display_data"
        },
        {
          "name": "stdout",
          "output_type": "stream",
          "text": [
            "Last Purchase\n"
          ]
        },
        {
          "data": {
            "image/png": "[encoded data removed]",
            "text/plain": [
              "<Figure size 864x216 with 6 Axes>"
            ]
          },
          "metadata": {},
          "output_type": "display_data"
        }
      ],
      "source": [
        "index = random.randint(0,df_recs.shape[0]-1)\n",
        "\n",
        "cus_id = df_recs.loc[index,'customer_id']\n",
        "pred = df_recs.loc[index,'prediction'].split(' ')\n",
        "last_purchase = list(transactions.loc[\n",
        "    transactions.customer_id == cus_id,\n",
        "    'article_id'].unique())\n",
        "\n",
        "print('cus_id:',cus_id)\n",
        "print('pred:', pred)\n",
        "print('last_purchase:', last_purchase)\n",
        "\n",
        "print('Prediction')\n",
        "fig,axes = plt.subplots(nrows=1,ncols=6,figsize=(12,3))\n",
        "axes = axes.flatten()\n",
        "for im_id,ax in zip(pred,axes):\n",
        "    ax.axis('off')\n",
        "    im = plt.imread(f'../../../data/images/{im_id[:3]}/{im_id}.jpg')\n",
        "    ax.imshow(im)\n",
        "plt.show()\n",
        "\n",
        "print('Last Purchase')\n",
        "nr = math.ceil(len(last_purchase)/6)\n",
        "fig,axes = plt.subplots(nrows=nr,ncols=6,figsize=(12,nr*3))\n",
        "axes = axes.flatten()\n",
        "last_purchase += [None]*(nr*6-len(last_purchase))\n",
        "for im_id,ax in zip(last_purchase,axes):\n",
        "    ax.axis('off')\n",
        "    if im_id is not None:\n",
        "        im = plt.imread(f'../../../data/images/{im_id[:3]}/{im_id}.jpg')\n",
        "        ax.imshow(im)\n",
        "plt.show()"
      ]
    }
  ],
  "metadata": {
    "colab": {
      "provenance": []
    },
    "kernelspec": {
      "display_name": "Python 3.8.6rc1 64-bit",
      "language": "python",
      "name": "python3"
    },
    "language_info": {
      "codemirror_mode": {
        "name": "ipython",
        "version": 3
      },
      "file_extension": ".py",
      "mimetype": "text/x-python",
      "name": "python",
      "nbconvert_exporter": "python",
      "pygments_lexer": "ipython3",
      "version": "3.8.6rc1"
    },
    "orig_nbformat": 4,
    "vscode": {
      "interpreter": {
        "hash": "d497afcb27c4170d6f28afcfe58d2930d35f83971cfaaac5d6cefda89acf2100"
      }
    }
  },
  "nbformat": 4,
  "nbformat_minor": 0
}
