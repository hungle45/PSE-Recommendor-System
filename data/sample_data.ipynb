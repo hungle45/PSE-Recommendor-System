{
 "cells": [
  {
   "cell_type": "code",
   "execution_count": null,
   "metadata": {},
   "outputs": [],
   "source": [
    "import matplotlib.pyplot as plt\n",
    "import os\n",
    "import random\n",
    "import shutil\n",
    "import numpy as np\n",
    "import pandas as pd\n",
    "import skimage.transform as sktf\n",
    "from PIL import Image"
   ]
  },
  {
   "cell_type": "markdown",
   "metadata": {},
   "source": [
    "### Download data"
   ]
  },
  {
   "cell_type": "code",
   "execution_count": null,
   "metadata": {},
   "outputs": [],
   "source": [
    "%%bash\n",
    "\n",
    "export KAGGLE_USERNAME='hung1578'\n",
    "export KAGGLE_KEY='aa415e7d1ab043d0afe78e1dce04211d'\n",
    "kaggle competitions download -c h-and-m-personalized-fashion-recommendations"
   ]
  },
  {
   "cell_type": "code",
   "execution_count": null,
   "metadata": {},
   "outputs": [],
   "source": [
    "%unzip /content/h-and-m-personalized-fashion-recommendations.zip"
   ]
  },
  {
   "cell_type": "code",
   "execution_count": null,
   "metadata": {},
   "outputs": [],
   "source": [
    "%rm /content/h-and-m-personalized-fashion-recommendations.zip"
   ]
  },
  {
   "cell_type": "markdown",
   "metadata": {},
   "source": [
    "### Read data"
   ]
  },
  {
   "cell_type": "code",
   "execution_count": null,
   "metadata": {},
   "outputs": [],
   "source": [
    "articles = pd.read_csv(\"articles.csv\", dtype={\"article_id\": \"str\"})\n",
    "customers = pd.read_csv(\"customers.csv\")\n",
    "transactions = pd.read_csv(\"transactions_train.csv\", dtype={\"article_id\": \"str\"})"
   ]
  },
  {
   "cell_type": "markdown",
   "metadata": {},
   "source": [
    "### Sample data"
   ]
  },
  {
   "cell_type": "code",
   "execution_count": null,
   "metadata": {},
   "outputs": [],
   "source": [
    "sample = 0.001\n",
    "customers_sample = customers.sample(int(customers.shape[0]*sample), replace=False, random_state=45)\n",
    "customers_sample_ids = set(customers_sample[\"customer_id\"])\n",
    "transactions_sample = transactions[transactions[\"customer_id\"].isin(customers_sample_ids)]\n",
    "articles_sample_ids = set(transactions_sample[\"article_id\"])"
   ]
  },
  {
   "cell_type": "code",
   "execution_count": null,
   "metadata": {},
   "outputs": [],
   "source": [
    "articles_id_ghost = []\n",
    "print(len(customers_sample_ids),len(articles_sample_ids))\n",
    "for i in articles_sample_ids:\n",
    "    if not os.path.exists(f'images/{i[:3]}/{i}.jpg'):\n",
    "        articles_id_ghost.append(i)"
   ]
  },
  {
   "cell_type": "code",
   "execution_count": null,
   "metadata": {},
   "outputs": [],
   "source": [
    "transactions_sample = transactions_sample.loc[~transactions_sample[\"article_id\"].isin(articles_id_ghost)]"
   ]
  },
  {
   "cell_type": "code",
   "execution_count": null,
   "metadata": {},
   "outputs": [],
   "source": [
    "articles_sample_ids = set(transactions_sample[\"article_id\"])\n",
    "articles_id_ghost = []\n",
    "print(len(customers_sample_ids),len(articles_sample_ids))\n",
    "for i in articles_sample_ids:\n",
    "    if not os.path.exists(f'images/{i[:3]}/{i}.jpg'):\n",
    "        articles_id_ghost.append(i)\n",
    "articles_id_ghost"
   ]
  },
  {
   "cell_type": "code",
   "execution_count": null,
   "metadata": {},
   "outputs": [],
   "source": [
    "if os.path.exists('data/images'):\n",
    "    shutil.rmtree('data/images')\n",
    "    os.makedirs('data/images')"
   ]
  },
  {
   "cell_type": "code",
   "execution_count": null,
   "metadata": {},
   "outputs": [],
   "source": [
    "articles_sample_ids = set(transactions_sample[\"article_id\"])\n",
    "articles_sample = articles[articles[\"article_id\"].isin(articles_sample_ids)]\n",
    "customers_sample.to_csv(\"data/customers_sample.csv.gz\", index=False)\n",
    "transactions_sample.to_csv(\"data/transactions_train_sample.csv.gz\", index=False)\n",
    "articles_sample.to_csv(\"data/articles_train_sample.csv.gz\", index=False)"
   ]
  },
  {
   "cell_type": "code",
   "execution_count": null,
   "metadata": {},
   "outputs": [],
   "source": [
    "for i in articles_sample_ids:\n",
    "    if not os.path.exists(f'data/images/{i[:3]}/'): \n",
    "        os.mkdir(f'data/images/{i[:3]}/')\n",
    "\n",
    "    im = plt.imread(f'images/{i[:3]}/{i}.jpg')\n",
    "    im = sktf.resize(im,(540,360,3),mode='constant',preserve_range=True)\n",
    "    im = (im-im.min())/(im.max()-im.min()) * 255.0\n",
    "    im = im.astype(np.uint8)\n",
    "\n",
    "    im = Image.fromarray(im)\n",
    "    im.save(f'data/images/{i[:3]}/{i}.jpg')"
   ]
  }
 ],
 "metadata": {
  "kernelspec": {
   "display_name": "Python 3.8.6rc1 64-bit",
   "language": "python",
   "name": "python3"
  },
  "language_info": {
   "name": "python",
   "version": "3.8.6"
  },
  "orig_nbformat": 4,
  "vscode": {
   "interpreter": {
    "hash": "d497afcb27c4170d6f28afcfe58d2930d35f83971cfaaac5d6cefda89acf2100"
   }
  }
 },
 "nbformat": 4,
 "nbformat_minor": 2
}
